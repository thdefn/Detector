{
  "cells": [
    {
      "cell_type": "markdown",
      "metadata": {
        "id": "view-in-github",
        "colab_type": "text"
      },
      "source": [
        "<a href=\"https://colab.research.google.com/github/thdefn/Detector/blob/main/CNN_aug_comparison(150).ipynb\" target=\"_parent\"><img src=\"https://colab.research.google.com/assets/colab-badge.svg\" alt=\"Open In Colab\"/></a>"
      ]
    },
    {
      "cell_type": "code",
      "execution_count": null,
      "id": "2ef873e8",
      "metadata": {
        "execution": {
          "iopub.execute_input": "2022-11-19T05:30:24.953756Z",
          "iopub.status.busy": "2022-11-19T05:30:24.952167Z",
          "iopub.status.idle": "2022-11-19T05:30:31.983459Z",
          "shell.execute_reply": "2022-11-19T05:30:31.982821Z",
          "shell.execute_reply.started": "2022-11-17T16:02:46.014360Z"
        },
        "jupyter": {
          "outputs_hidden": false
        },
        "papermill": {
          "duration": 7.048202,
          "end_time": "2022-11-19T05:30:31.983661",
          "exception": false,
          "start_time": "2022-11-19T05:30:24.935459",
          "status": "completed"
        },
        "pycharm": {
          "name": "#%%\n"
        },
        "tags": [],
        "id": "2ef873e8"
      },
      "outputs": [],
      "source": [
        "import numpy as np\n",
        "import pandas as pd\n",
        "\n",
        "from tensorflow import keras\n",
        "\n",
        "from tensorflow.keras.models import Sequential\n",
        "from tensorflow.keras.layers import Activation, Conv2D, MaxPooling2D, Dense, Flatten\n",
        "from tensorflow.keras.layers import Dropout, BatchNormalization \n",
        "from tensorflow.keras.utils import to_categorical\n",
        "\n",
        "from keras.callbacks import ModelCheckpoint\n",
        "\n",
        "import matplotlib.pyplot as plt\n",
        "\n",
        "import seaborn as sns\n",
        "import os\n",
        "import glob\n",
        "import plotly.graph_objects as go\n",
        "import cv2\n",
        "from PIL import Image\n",
        "from PIL import ImageFile\n",
        "from sklearn.model_selection import train_test_split\n",
        "from sklearn.preprocessing import LabelEncoder\n",
        "import tensorflow as tf\n",
        "from keras.preprocessing.image import ImageDataGenerator\n",
        "from keras.utils.np_utils import to_categorical\n",
        "from keras.applications.vgg16 import VGG16\n",
        "from tensorflow.keras.optimizers import Adam\n",
        "from keras.callbacks import EarlyStopping, ReduceLROnPlateau,ModelCheckpoint \n",
        "from sklearn.metrics import accuracy_score, confusion_matrix, classification_report\n",
        "import warnings\n",
        "warnings.filterwarnings(\"ignore\")\n",
        "ImageFile.LOAD_TRUNCATED_IMAGES = True\n",
        "\n",
        "from tqdm import tqdm"
      ]
    },
    {
      "cell_type": "markdown",
      "id": "efbe2f3b",
      "metadata": {
        "papermill": {
          "duration": 0.011253,
          "end_time": "2022-11-19T05:30:32.007489",
          "exception": false,
          "start_time": "2022-11-19T05:30:31.996236",
          "status": "completed"
        },
        "tags": [],
        "id": "efbe2f3b"
      },
      "source": [
        "# 데이터"
      ]
    },
    {
      "cell_type": "code",
      "execution_count": null,
      "id": "b1cc75d5",
      "metadata": {
        "execution": {
          "iopub.execute_input": "2022-11-19T05:30:32.038021Z",
          "iopub.status.busy": "2022-11-19T05:30:32.037290Z",
          "iopub.status.idle": "2022-11-19T05:30:32.509886Z",
          "shell.execute_reply": "2022-11-19T05:30:32.510367Z",
          "shell.execute_reply.started": "2022-11-17T16:03:57.973165Z"
        },
        "papermill": {
          "duration": 0.491706,
          "end_time": "2022-11-19T05:30:32.510552",
          "exception": false,
          "start_time": "2022-11-19T05:30:32.018846",
          "status": "completed"
        },
        "tags": [],
        "id": "b1cc75d5",
        "outputId": "4e7eab6f-0efb-4de5-e80d-f58f1840148e"
      },
      "outputs": [
        {
          "name": "stdout",
          "output_type": "stream",
          "text": [
            "Type 1 files for training: 1441 \n",
            "Type 2 files for training: 4348\n",
            "Type 3 files for training: 2426\n"
          ]
        }
      ],
      "source": [
        "root_dir = '../input/intel-mobileodt-cervical-cancer-screening'\n",
        "train_dir = os.path.join(root_dir,'train', 'train')\n",
        "\n",
        "type1_dir = os.path.join(train_dir, 'Type_1')\n",
        "type2_dir = os.path.join(train_dir, 'Type_2')\n",
        "type3_dir = os.path.join(train_dir, 'Type_3')\n",
        "\n",
        "train_type1_files = glob.glob(type1_dir+'/*.jpg')\n",
        "train_type2_files = glob.glob(type2_dir+'/*.jpg')\n",
        "train_type3_files = glob.glob(type3_dir+'/*.jpg')\n",
        "\n",
        "\n",
        "added_type1_files  =  glob.glob(os.path.join(root_dir, \"additional_Type_1_v2\", \"Type_1\")+'/*.jpg')\n",
        "added_type2_files  =  glob.glob(os.path.join(root_dir, \"additional_Type_2_v2\", \"Type_2\")+'/*.jpg')\n",
        "added_type3_files  =  glob.glob(os.path.join(root_dir, \"additional_Type_3_v2\", \"Type_3\")+'/*.jpg')\n",
        "\n",
        "\n",
        "type1_files = train_type1_files + added_type1_files\n",
        "type2_files = train_type2_files + added_type2_files\n",
        "type3_files = train_type3_files + added_type3_files\n",
        "\n",
        "print(f'''Type 1 files for training: {len(type1_files)} \n",
        "Type 2 files for training: {len(type2_files)}\n",
        "Type 3 files for training: {len(type3_files)}''' )"
      ]
    },
    {
      "cell_type": "code",
      "execution_count": null,
      "id": "d0f78ca4",
      "metadata": {
        "execution": {
          "iopub.execute_input": "2022-11-19T05:30:32.545560Z",
          "iopub.status.busy": "2022-11-19T05:30:32.544947Z",
          "iopub.status.idle": "2022-11-19T05:30:32.565293Z",
          "shell.execute_reply": "2022-11-19T05:30:32.565748Z",
          "shell.execute_reply.started": "2022-11-17T16:04:01.904506Z"
        },
        "papermill": {
          "duration": 0.043308,
          "end_time": "2022-11-19T05:30:32.565906",
          "exception": false,
          "start_time": "2022-11-19T05:30:32.522598",
          "status": "completed"
        },
        "tags": [],
        "id": "d0f78ca4",
        "outputId": "6e310ea9-6c6c-42c6-dcb6-615055ecb458"
      },
      "outputs": [
        {
          "data": {
            "text/html": [
              "<div>\n",
              "<style scoped>\n",
              "    .dataframe tbody tr th:only-of-type {\n",
              "        vertical-align: middle;\n",
              "    }\n",
              "\n",
              "    .dataframe tbody tr th {\n",
              "        vertical-align: top;\n",
              "    }\n",
              "\n",
              "    .dataframe thead th {\n",
              "        text-align: right;\n",
              "    }\n",
              "</style>\n",
              "<table border=\"1\" class=\"dataframe\">\n",
              "  <thead>\n",
              "    <tr style=\"text-align: right;\">\n",
              "      <th></th>\n",
              "      <th>filepath</th>\n",
              "      <th>label</th>\n",
              "    </tr>\n",
              "  </thead>\n",
              "  <tbody>\n",
              "    <tr>\n",
              "      <th>0</th>\n",
              "      <td>../input/intel-mobileodt-cervical-cancer-scree...</td>\n",
              "      <td>Type 1</td>\n",
              "    </tr>\n",
              "    <tr>\n",
              "      <th>1</th>\n",
              "      <td>../input/intel-mobileodt-cervical-cancer-scree...</td>\n",
              "      <td>Type 3</td>\n",
              "    </tr>\n",
              "    <tr>\n",
              "      <th>2</th>\n",
              "      <td>../input/intel-mobileodt-cervical-cancer-scree...</td>\n",
              "      <td>Type 1</td>\n",
              "    </tr>\n",
              "    <tr>\n",
              "      <th>3</th>\n",
              "      <td>../input/intel-mobileodt-cervical-cancer-scree...</td>\n",
              "      <td>Type 2</td>\n",
              "    </tr>\n",
              "    <tr>\n",
              "      <th>4</th>\n",
              "      <td>../input/intel-mobileodt-cervical-cancer-scree...</td>\n",
              "      <td>Type 3</td>\n",
              "    </tr>\n",
              "    <tr>\n",
              "      <th>...</th>\n",
              "      <td>...</td>\n",
              "      <td>...</td>\n",
              "    </tr>\n",
              "    <tr>\n",
              "      <th>8210</th>\n",
              "      <td>../input/intel-mobileodt-cervical-cancer-scree...</td>\n",
              "      <td>Type 2</td>\n",
              "    </tr>\n",
              "    <tr>\n",
              "      <th>8211</th>\n",
              "      <td>../input/intel-mobileodt-cervical-cancer-scree...</td>\n",
              "      <td>Type 3</td>\n",
              "    </tr>\n",
              "    <tr>\n",
              "      <th>8212</th>\n",
              "      <td>../input/intel-mobileodt-cervical-cancer-scree...</td>\n",
              "      <td>Type 1</td>\n",
              "    </tr>\n",
              "    <tr>\n",
              "      <th>8213</th>\n",
              "      <td>../input/intel-mobileodt-cervical-cancer-scree...</td>\n",
              "      <td>Type 2</td>\n",
              "    </tr>\n",
              "    <tr>\n",
              "      <th>8214</th>\n",
              "      <td>../input/intel-mobileodt-cervical-cancer-scree...</td>\n",
              "      <td>Type 1</td>\n",
              "    </tr>\n",
              "  </tbody>\n",
              "</table>\n",
              "<p>8215 rows × 2 columns</p>\n",
              "</div>"
            ],
            "text/plain": [
              "                                               filepath   label\n",
              "0     ../input/intel-mobileodt-cervical-cancer-scree...  Type 1\n",
              "1     ../input/intel-mobileodt-cervical-cancer-scree...  Type 3\n",
              "2     ../input/intel-mobileodt-cervical-cancer-scree...  Type 1\n",
              "3     ../input/intel-mobileodt-cervical-cancer-scree...  Type 2\n",
              "4     ../input/intel-mobileodt-cervical-cancer-scree...  Type 3\n",
              "...                                                 ...     ...\n",
              "8210  ../input/intel-mobileodt-cervical-cancer-scree...  Type 2\n",
              "8211  ../input/intel-mobileodt-cervical-cancer-scree...  Type 3\n",
              "8212  ../input/intel-mobileodt-cervical-cancer-scree...  Type 1\n",
              "8213  ../input/intel-mobileodt-cervical-cancer-scree...  Type 2\n",
              "8214  ../input/intel-mobileodt-cervical-cancer-scree...  Type 1\n",
              "\n",
              "[8215 rows x 2 columns]"
            ]
          },
          "execution_count": 3,
          "metadata": {},
          "output_type": "execute_result"
        }
      ],
      "source": [
        "files = {'filepath': type1_files + type2_files + type3_files,\n",
        "          'label': ['Type 1']* len(type1_files) + ['Type 2']* len(type2_files) + ['Type 3']* len(type3_files)}\n",
        "\n",
        "files_df = pd.DataFrame(files).sample(frac=1, random_state= 1).reset_index(drop=True)\n",
        "files_df"
      ]
    },
    {
      "cell_type": "code",
      "execution_count": null,
      "id": "c4a1ef13",
      "metadata": {
        "execution": {
          "iopub.execute_input": "2022-11-19T05:30:32.597813Z",
          "iopub.status.busy": "2022-11-19T05:30:32.596950Z",
          "iopub.status.idle": "2022-11-19T05:32:29.119196Z",
          "shell.execute_reply": "2022-11-19T05:32:29.119794Z",
          "shell.execute_reply.started": "2022-11-17T16:04:10.372212Z"
        },
        "papermill": {
          "duration": 116.541351,
          "end_time": "2022-11-19T05:32:29.120023",
          "exception": false,
          "start_time": "2022-11-19T05:30:32.578672",
          "status": "completed"
        },
        "tags": [],
        "id": "c4a1ef13",
        "outputId": "34056c58-0bb3-44c7-bdf7-43baa0d30065"
      },
      "outputs": [
        {
          "name": "stderr",
          "output_type": "stream",
          "text": [
            "100%|██████████| 8215/8215 [01:56<00:00, 70.51it/s]\n"
          ]
        }
      ],
      "source": [
        "bad_files = []\n",
        "for path in tqdm(files_df['filepath'].values):\n",
        "    try:\n",
        "        img = Image.open(path)\n",
        "    except:\n",
        "        index = files_df[files_df['filepath']==path].index.values[0]\n",
        "        bad_files.append(index)"
      ]
    },
    {
      "cell_type": "code",
      "execution_count": null,
      "id": "c0d14a8d",
      "metadata": {
        "execution": {
          "iopub.execute_input": "2022-11-19T05:32:29.658370Z",
          "iopub.status.busy": "2022-11-19T05:32:29.657453Z",
          "iopub.status.idle": "2022-11-19T05:32:29.667939Z",
          "shell.execute_reply": "2022-11-19T05:32:29.668438Z",
          "shell.execute_reply.started": "2022-11-17T16:07:45.151787Z"
        },
        "papermill": {
          "duration": 0.279949,
          "end_time": "2022-11-19T05:32:29.668635",
          "exception": false,
          "start_time": "2022-11-19T05:32:29.388686",
          "status": "completed"
        },
        "tags": [],
        "id": "c0d14a8d",
        "outputId": "37cd17bc-5c86-4903-9f6d-d5260b123777"
      },
      "outputs": [
        {
          "data": {
            "text/html": [
              "<div>\n",
              "<style scoped>\n",
              "    .dataframe tbody tr th:only-of-type {\n",
              "        vertical-align: middle;\n",
              "    }\n",
              "\n",
              "    .dataframe tbody tr th {\n",
              "        vertical-align: top;\n",
              "    }\n",
              "\n",
              "    .dataframe thead th {\n",
              "        text-align: right;\n",
              "    }\n",
              "</style>\n",
              "<table border=\"1\" class=\"dataframe\">\n",
              "  <thead>\n",
              "    <tr style=\"text-align: right;\">\n",
              "      <th></th>\n",
              "      <th>filepath</th>\n",
              "      <th>label</th>\n",
              "    </tr>\n",
              "  </thead>\n",
              "  <tbody>\n",
              "    <tr>\n",
              "      <th>0</th>\n",
              "      <td>../input/intel-mobileodt-cervical-cancer-scree...</td>\n",
              "      <td>Type 1</td>\n",
              "    </tr>\n",
              "    <tr>\n",
              "      <th>1</th>\n",
              "      <td>../input/intel-mobileodt-cervical-cancer-scree...</td>\n",
              "      <td>Type 3</td>\n",
              "    </tr>\n",
              "    <tr>\n",
              "      <th>2</th>\n",
              "      <td>../input/intel-mobileodt-cervical-cancer-scree...</td>\n",
              "      <td>Type 1</td>\n",
              "    </tr>\n",
              "    <tr>\n",
              "      <th>3</th>\n",
              "      <td>../input/intel-mobileodt-cervical-cancer-scree...</td>\n",
              "      <td>Type 2</td>\n",
              "    </tr>\n",
              "    <tr>\n",
              "      <th>4</th>\n",
              "      <td>../input/intel-mobileodt-cervical-cancer-scree...</td>\n",
              "      <td>Type 3</td>\n",
              "    </tr>\n",
              "    <tr>\n",
              "      <th>...</th>\n",
              "      <td>...</td>\n",
              "      <td>...</td>\n",
              "    </tr>\n",
              "    <tr>\n",
              "      <th>8210</th>\n",
              "      <td>../input/intel-mobileodt-cervical-cancer-scree...</td>\n",
              "      <td>Type 2</td>\n",
              "    </tr>\n",
              "    <tr>\n",
              "      <th>8211</th>\n",
              "      <td>../input/intel-mobileodt-cervical-cancer-scree...</td>\n",
              "      <td>Type 3</td>\n",
              "    </tr>\n",
              "    <tr>\n",
              "      <th>8212</th>\n",
              "      <td>../input/intel-mobileodt-cervical-cancer-scree...</td>\n",
              "      <td>Type 1</td>\n",
              "    </tr>\n",
              "    <tr>\n",
              "      <th>8213</th>\n",
              "      <td>../input/intel-mobileodt-cervical-cancer-scree...</td>\n",
              "      <td>Type 2</td>\n",
              "    </tr>\n",
              "    <tr>\n",
              "      <th>8214</th>\n",
              "      <td>../input/intel-mobileodt-cervical-cancer-scree...</td>\n",
              "      <td>Type 1</td>\n",
              "    </tr>\n",
              "  </tbody>\n",
              "</table>\n",
              "<p>8212 rows × 2 columns</p>\n",
              "</div>"
            ],
            "text/plain": [
              "                                               filepath   label\n",
              "0     ../input/intel-mobileodt-cervical-cancer-scree...  Type 1\n",
              "1     ../input/intel-mobileodt-cervical-cancer-scree...  Type 3\n",
              "2     ../input/intel-mobileodt-cervical-cancer-scree...  Type 1\n",
              "3     ../input/intel-mobileodt-cervical-cancer-scree...  Type 2\n",
              "4     ../input/intel-mobileodt-cervical-cancer-scree...  Type 3\n",
              "...                                                 ...     ...\n",
              "8210  ../input/intel-mobileodt-cervical-cancer-scree...  Type 2\n",
              "8211  ../input/intel-mobileodt-cervical-cancer-scree...  Type 3\n",
              "8212  ../input/intel-mobileodt-cervical-cancer-scree...  Type 1\n",
              "8213  ../input/intel-mobileodt-cervical-cancer-scree...  Type 2\n",
              "8214  ../input/intel-mobileodt-cervical-cancer-scree...  Type 1\n",
              "\n",
              "[8212 rows x 2 columns]"
            ]
          },
          "execution_count": 5,
          "metadata": {},
          "output_type": "execute_result"
        }
      ],
      "source": [
        "bad_files\n",
        "files_df.drop(bad_files, inplace=True)\n",
        "files_df"
      ]
    },
    {
      "cell_type": "markdown",
      "id": "34d8e7d0",
      "metadata": {
        "papermill": {
          "duration": 0.265503,
          "end_time": "2022-11-19T05:32:30.198994",
          "exception": false,
          "start_time": "2022-11-19T05:32:29.933491",
          "status": "completed"
        },
        "tags": [],
        "id": "34d8e7d0"
      },
      "source": [
        "## **이미지 증식한 데이터 준비**"
      ]
    },
    {
      "cell_type": "code",
      "execution_count": null,
      "id": "187c3903",
      "metadata": {
        "execution": {
          "iopub.execute_input": "2022-11-19T05:32:30.756001Z",
          "iopub.status.busy": "2022-11-19T05:32:30.755228Z",
          "iopub.status.idle": "2022-11-19T05:32:34.171573Z",
          "shell.execute_reply": "2022-11-19T05:32:34.171103Z",
          "shell.execute_reply.started": "2022-11-17T10:35:11.661523Z"
        },
        "papermill": {
          "duration": 3.707085,
          "end_time": "2022-11-19T05:32:34.171712",
          "exception": false,
          "start_time": "2022-11-19T05:32:30.464627",
          "status": "completed"
        },
        "tags": [],
        "id": "187c3903",
        "outputId": "2b911174-7b26-42ac-fe8a-f82213771b99"
      },
      "outputs": [
        {
          "name": "stdout",
          "output_type": "stream",
          "text": [
            "Found 6570 validated image filenames belonging to 3 classes.\n",
            "Found 1642 validated image filenames belonging to 3 classes.\n"
          ]
        }
      ],
      "source": [
        "# 이미지 증식 부분 batch_size 만큼 이미지를 증가시킴\n",
        "# train_dir = \"../input/intel-mobileodt-cervical-cancer-screening/train/train\"\n",
        "t = ImageDataGenerator(rescale=1./ 255, rotation_range=0.3, zoom_range=0.3, validation_split=0.2)\n",
        "\n",
        "t_gen = t.flow_from_dataframe(files_df,x_col='filepath', y_col='label', target_size = (150, 150),batch_size=3,class_mode='categorical', color_mode='rgb', subset='training')\n",
        "v_gen = t.flow_from_dataframe(files_df,x_col='filepath', y_col='label',target_size = (150, 150),batch_size=1,class_mode='categorical', color_mode='rgb', subset='validation')"
      ]
    },
    {
      "cell_type": "markdown",
      "id": "ae264028",
      "metadata": {
        "papermill": {
          "duration": 0.409704,
          "end_time": "2022-11-19T05:32:34.975327",
          "exception": false,
          "start_time": "2022-11-19T05:32:34.565623",
          "status": "completed"
        },
        "tags": [],
        "id": "ae264028"
      },
      "source": [
        "## **이미지 증식 사용 안한 데이터 준비**"
      ]
    },
    {
      "cell_type": "code",
      "execution_count": null,
      "id": "9d54783b",
      "metadata": {
        "execution": {
          "iopub.execute_input": "2022-11-19T05:32:35.780277Z",
          "iopub.status.busy": "2022-11-19T05:32:35.778959Z",
          "iopub.status.idle": "2022-11-19T05:32:35.930590Z",
          "shell.execute_reply": "2022-11-19T05:32:35.931162Z",
          "shell.execute_reply.started": "2022-11-17T16:11:48.547028Z"
        },
        "papermill": {
          "duration": 0.538056,
          "end_time": "2022-11-19T05:32:35.931400",
          "exception": false,
          "start_time": "2022-11-19T05:32:35.393344",
          "status": "completed"
        },
        "tags": [],
        "id": "9d54783b",
        "outputId": "013d5a34-744a-45d3-8c99-2f5b5937fef5"
      },
      "outputs": [
        {
          "name": "stdout",
          "output_type": "stream",
          "text": [
            "Found 6570 validated image filenames belonging to 3 classes.\n",
            "Found 1642 validated image filenames belonging to 3 classes.\n"
          ]
        }
      ],
      "source": [
        "#train_df, valid_df = train_test_split(files_df, test_size = 0.2, stratify = files_df['label'], random_state = 1234)\n",
        "k = ImageDataGenerator(rescale=1./ 255, validation_split=0.2)\n",
        "t_nongen = k.flow_from_dataframe(files_df, x_col='filepath', y_col='label', target_size = (150, 150), class_mode='categorical', color_mode='rgb', subset='training')\n",
        "v_nongen = k.flow_from_dataframe(files_df, x_col='filepath', y_col='label', target_size = (150, 150), class_mode='categorical', color_mode='rgb', subset='validation')"
      ]
    },
    {
      "cell_type": "markdown",
      "id": "3bce0b2c",
      "metadata": {
        "papermill": {
          "duration": 0.276782,
          "end_time": "2022-11-19T05:32:36.475431",
          "exception": false,
          "start_time": "2022-11-19T05:32:36.198649",
          "status": "completed"
        },
        "tags": [],
        "id": "3bce0b2c"
      },
      "source": [
        "# 원선님 모델"
      ]
    },
    {
      "cell_type": "code",
      "execution_count": null,
      "id": "aff39a11",
      "metadata": {
        "execution": {
          "iopub.execute_input": "2022-11-19T05:32:37.017462Z",
          "iopub.status.busy": "2022-11-19T05:32:37.016829Z",
          "iopub.status.idle": "2022-11-19T05:32:40.864415Z",
          "shell.execute_reply": "2022-11-19T05:32:40.863918Z",
          "shell.execute_reply.started": "2022-11-17T16:08:32.165081Z"
        },
        "papermill": {
          "duration": 4.117136,
          "end_time": "2022-11-19T05:32:40.864589",
          "exception": false,
          "start_time": "2022-11-19T05:32:36.747453",
          "status": "completed"
        },
        "tags": [],
        "id": "aff39a11",
        "outputId": "550c8587-9afb-4460-d59b-06b23b0df383"
      },
      "outputs": [
        {
          "name": "stderr",
          "output_type": "stream",
          "text": [
            "2022-11-19 05:32:37.183092: I tensorflow/stream_executor/cuda/cuda_gpu_executor.cc:937] successful NUMA node read from SysFS had negative value (-1), but there must be at least one NUMA node, so returning NUMA node zero\n",
            "2022-11-19 05:32:37.185713: I tensorflow/stream_executor/cuda/cuda_gpu_executor.cc:937] successful NUMA node read from SysFS had negative value (-1), but there must be at least one NUMA node, so returning NUMA node zero\n",
            "2022-11-19 05:32:37.308900: I tensorflow/stream_executor/cuda/cuda_gpu_executor.cc:937] successful NUMA node read from SysFS had negative value (-1), but there must be at least one NUMA node, so returning NUMA node zero\n",
            "2022-11-19 05:32:37.309887: I tensorflow/stream_executor/cuda/cuda_gpu_executor.cc:937] successful NUMA node read from SysFS had negative value (-1), but there must be at least one NUMA node, so returning NUMA node zero\n",
            "2022-11-19 05:32:37.310694: I tensorflow/stream_executor/cuda/cuda_gpu_executor.cc:937] successful NUMA node read from SysFS had negative value (-1), but there must be at least one NUMA node, so returning NUMA node zero\n",
            "2022-11-19 05:32:37.311600: I tensorflow/stream_executor/cuda/cuda_gpu_executor.cc:937] successful NUMA node read from SysFS had negative value (-1), but there must be at least one NUMA node, so returning NUMA node zero\n",
            "2022-11-19 05:32:37.314722: I tensorflow/core/platform/cpu_feature_guard.cc:142] This TensorFlow binary is optimized with oneAPI Deep Neural Network Library (oneDNN) to use the following CPU instructions in performance-critical operations:  AVX2 AVX512F FMA\n",
            "To enable them in other operations, rebuild TensorFlow with the appropriate compiler flags.\n",
            "2022-11-19 05:32:37.577257: I tensorflow/stream_executor/cuda/cuda_gpu_executor.cc:937] successful NUMA node read from SysFS had negative value (-1), but there must be at least one NUMA node, so returning NUMA node zero\n",
            "2022-11-19 05:32:37.578644: I tensorflow/stream_executor/cuda/cuda_gpu_executor.cc:937] successful NUMA node read from SysFS had negative value (-1), but there must be at least one NUMA node, so returning NUMA node zero\n",
            "2022-11-19 05:32:37.580290: I tensorflow/stream_executor/cuda/cuda_gpu_executor.cc:937] successful NUMA node read from SysFS had negative value (-1), but there must be at least one NUMA node, so returning NUMA node zero\n",
            "2022-11-19 05:32:37.581625: I tensorflow/stream_executor/cuda/cuda_gpu_executor.cc:937] successful NUMA node read from SysFS had negative value (-1), but there must be at least one NUMA node, so returning NUMA node zero\n",
            "2022-11-19 05:32:37.582598: I tensorflow/stream_executor/cuda/cuda_gpu_executor.cc:937] successful NUMA node read from SysFS had negative value (-1), but there must be at least one NUMA node, so returning NUMA node zero\n",
            "2022-11-19 05:32:37.583487: I tensorflow/stream_executor/cuda/cuda_gpu_executor.cc:937] successful NUMA node read from SysFS had negative value (-1), but there must be at least one NUMA node, so returning NUMA node zero\n",
            "2022-11-19 05:32:40.401092: I tensorflow/stream_executor/cuda/cuda_gpu_executor.cc:937] successful NUMA node read from SysFS had negative value (-1), but there must be at least one NUMA node, so returning NUMA node zero\n",
            "2022-11-19 05:32:40.402093: I tensorflow/stream_executor/cuda/cuda_gpu_executor.cc:937] successful NUMA node read from SysFS had negative value (-1), but there must be at least one NUMA node, so returning NUMA node zero\n",
            "2022-11-19 05:32:40.403061: I tensorflow/stream_executor/cuda/cuda_gpu_executor.cc:937] successful NUMA node read from SysFS had negative value (-1), but there must be at least one NUMA node, so returning NUMA node zero\n",
            "2022-11-19 05:32:40.403871: I tensorflow/stream_executor/cuda/cuda_gpu_executor.cc:937] successful NUMA node read from SysFS had negative value (-1), but there must be at least one NUMA node, so returning NUMA node zero\n",
            "2022-11-19 05:32:40.404658: I tensorflow/stream_executor/cuda/cuda_gpu_executor.cc:937] successful NUMA node read from SysFS had negative value (-1), but there must be at least one NUMA node, so returning NUMA node zero\n",
            "2022-11-19 05:32:40.406724: I tensorflow/core/common_runtime/gpu/gpu_device.cc:1510] Created device /job:localhost/replica:0/task:0/device:GPU:0 with 13795 MB memory:  -> device: 0, name: Tesla T4, pci bus id: 0000:00:04.0, compute capability: 7.5\n",
            "2022-11-19 05:32:40.410320: I tensorflow/stream_executor/cuda/cuda_gpu_executor.cc:937] successful NUMA node read from SysFS had negative value (-1), but there must be at least one NUMA node, so returning NUMA node zero\n",
            "2022-11-19 05:32:40.411012: I tensorflow/core/common_runtime/gpu/gpu_device.cc:1510] Created device /job:localhost/replica:0/task:0/device:GPU:1 with 13795 MB memory:  -> device: 1, name: Tesla T4, pci bus id: 0000:00:05.0, compute capability: 7.5\n"
          ]
        },
        {
          "name": "stdout",
          "output_type": "stream",
          "text": [
            "Model: \"sequential\"\n",
            "_________________________________________________________________\n",
            "Layer (type)                 Output Shape              Param #   \n",
            "=================================================================\n",
            "conv2d (Conv2D)              (None, 150, 150, 64)      1792      \n",
            "_________________________________________________________________\n",
            "activation (Activation)      (None, 150, 150, 64)      0         \n",
            "_________________________________________________________________\n",
            "max_pooling2d (MaxPooling2D) (None, 75, 75, 64)        0         \n",
            "_________________________________________________________________\n",
            "conv2d_1 (Conv2D)            (None, 75, 75, 32)        18464     \n",
            "_________________________________________________________________\n",
            "activation_1 (Activation)    (None, 75, 75, 32)        0         \n",
            "_________________________________________________________________\n",
            "max_pooling2d_1 (MaxPooling2 (None, 37, 37, 32)        0         \n",
            "_________________________________________________________________\n",
            "conv2d_2 (Conv2D)            (None, 37, 37, 64)        18496     \n",
            "_________________________________________________________________\n",
            "activation_2 (Activation)    (None, 37, 37, 64)        0         \n",
            "_________________________________________________________________\n",
            "max_pooling2d_2 (MaxPooling2 (None, 18, 18, 64)        0         \n",
            "_________________________________________________________________\n",
            "flatten (Flatten)            (None, 20736)             0         \n",
            "_________________________________________________________________\n",
            "dense (Dense)                (None, 64)                1327168   \n",
            "_________________________________________________________________\n",
            "activation_3 (Activation)    (None, 64)                0         \n",
            "_________________________________________________________________\n",
            "dropout (Dropout)            (None, 64)                0         \n",
            "_________________________________________________________________\n",
            "dense_1 (Dense)              (None, 3)                 195       \n",
            "=================================================================\n",
            "Total params: 1,366,115\n",
            "Trainable params: 1,366,115\n",
            "Non-trainable params: 0\n",
            "_________________________________________________________________\n"
          ]
        }
      ],
      "source": [
        "cnn = Sequential([\n",
        "    Conv2D(64, kernel_size = (3,3), padding='same', kernel_initializer='random_normal', input_shape=(150,150,3)),\n",
        "    Activation('relu'),\n",
        "    MaxPooling2D(pool_size=(2,2)),\n",
        "    \n",
        "    Conv2D(32, kernel_size = (3,3), padding='same', kernel_initializer='random_normal'),\n",
        "    Activation('relu'),\n",
        "    MaxPooling2D(pool_size=(2,2)),\n",
        "    \n",
        "    Conv2D(64, kernel_size = (3,3), padding='same', kernel_initializer='random_normal'),\n",
        "    Activation('relu'),\n",
        "    MaxPooling2D(pool_size=(2,2)),\n",
        "\n",
        "    Flatten(),\n",
        "    Dense(64, kernel_initializer='random_normal'),\n",
        "    Activation('relu'),\n",
        "    Dropout(0.5),\n",
        "    Dense(3, activation='softmax')\n",
        "    \n",
        "])\n",
        "\n",
        "cnn.summary()"
      ]
    },
    {
      "cell_type": "code",
      "execution_count": null,
      "id": "f008ff3f",
      "metadata": {
        "execution": {
          "iopub.execute_input": "2022-11-19T05:32:41.411883Z",
          "iopub.status.busy": "2022-11-19T05:32:41.411040Z",
          "iopub.status.idle": "2022-11-19T11:18:10.316570Z",
          "shell.execute_reply": "2022-11-19T11:18:10.317059Z",
          "shell.execute_reply.started": "2022-11-17T16:11:57.220109Z"
        },
        "papermill": {
          "duration": 20729.179021,
          "end_time": "2022-11-19T11:18:10.317254",
          "exception": false,
          "start_time": "2022-11-19T05:32:41.138233",
          "status": "completed"
        },
        "tags": [],
        "id": "f008ff3f",
        "outputId": "d8ea5114-114b-4e42-da41-85fad2c77e5a"
      },
      "outputs": [
        {
          "name": "stderr",
          "output_type": "stream",
          "text": [
            "2022-11-19 05:32:42.247675: I tensorflow/compiler/mlir/mlir_graph_optimization_pass.cc:185] None of the MLIR Optimization Passes are enabled (registered 2)\n"
          ]
        },
        {
          "name": "stdout",
          "output_type": "stream",
          "text": [
            "Epoch 1/10\n"
          ]
        },
        {
          "name": "stderr",
          "output_type": "stream",
          "text": [
            "2022-11-19 05:32:45.058383: I tensorflow/stream_executor/cuda/cuda_dnn.cc:369] Loaded cuDNN version 8005\n"
          ]
        },
        {
          "name": "stdout",
          "output_type": "stream",
          "text": [
            "2190/2190 [==============================] - 2011s 914ms/step - loss: 1.0280 - accuracy: 0.5259 - val_loss: 1.0097 - val_accuracy: 0.5305\n",
            "Epoch 2/10\n",
            "2190/2190 [==============================] - 1923s 878ms/step - loss: 1.0074 - accuracy: 0.5277 - val_loss: 1.0016 - val_accuracy: 0.5305\n",
            "Epoch 3/10\n",
            "2190/2190 [==============================] - 1935s 884ms/step - loss: 0.9918 - accuracy: 0.5320 - val_loss: 0.9787 - val_accuracy: 0.5311\n",
            "Epoch 4/10\n",
            "2190/2190 [==============================] - 2086s 953ms/step - loss: 0.9768 - accuracy: 0.5282 - val_loss: 0.9682 - val_accuracy: 0.5353\n",
            "Epoch 5/10\n",
            "2190/2190 [==============================] - 2102s 960ms/step - loss: 0.9621 - accuracy: 0.5368 - val_loss: 0.9703 - val_accuracy: 0.5043\n",
            "Epoch 6/10\n",
            "2190/2190 [==============================] - 2068s 944ms/step - loss: 0.9570 - accuracy: 0.5344 - val_loss: 0.9596 - val_accuracy: 0.5365\n",
            "Epoch 7/10\n",
            "2190/2190 [==============================] - 2072s 946ms/step - loss: 0.9500 - accuracy: 0.5408 - val_loss: 0.9552 - val_accuracy: 0.5250\n",
            "Epoch 8/10\n",
            "2190/2190 [==============================] - 2021s 923ms/step - loss: 0.9431 - accuracy: 0.5429 - val_loss: 0.9598 - val_accuracy: 0.5128\n",
            "Epoch 9/10\n",
            "2190/2190 [==============================] - 2116s 966ms/step - loss: 0.9429 - accuracy: 0.5428 - val_loss: 0.9485 - val_accuracy: 0.5371\n",
            "Epoch 10/10\n",
            "2190/2190 [==============================] - 2137s 976ms/step - loss: 0.9327 - accuracy: 0.5443 - val_loss: 0.9406 - val_accuracy: 0.5250\n"
          ]
        }
      ],
      "source": [
        "cnn.compile(\n",
        "    'adam',\n",
        "  loss='categorical_crossentropy',\n",
        "  metrics=['accuracy'],\n",
        ")\n",
        "verimggen = cnn.fit_generator(t_gen, steps_per_epoch = t_gen.samples//3, validation_data= v_gen, validation_steps= v_gen.samples,epochs= 10, verbose=1)"
      ]
    },
    {
      "cell_type": "code",
      "execution_count": null,
      "id": "4d19866d",
      "metadata": {
        "execution": {
          "iopub.execute_input": "2022-11-19T11:18:22.169219Z",
          "iopub.status.busy": "2022-11-19T11:18:22.168192Z",
          "iopub.status.idle": "2022-11-19T16:45:54.184961Z",
          "shell.execute_reply": "2022-11-19T16:45:54.185392Z"
        },
        "papermill": {
          "duration": 19658.066476,
          "end_time": "2022-11-19T16:45:54.185602",
          "exception": false,
          "start_time": "2022-11-19T11:18:16.119126",
          "status": "completed"
        },
        "tags": [],
        "id": "4d19866d",
        "outputId": "4a3ad447-e151-48c8-a2b3-97f69cfe714b"
      },
      "outputs": [
        {
          "name": "stdout",
          "output_type": "stream",
          "text": [
            "Epoch 1/10\n",
            "206/206 [==============================] - 2022s 10s/step - loss: 1.0063 - accuracy: 0.5231 - val_loss: 0.9769 - val_accuracy: 0.5213\n",
            "Epoch 2/10\n",
            "206/206 [==============================] - 1945s 9s/step - loss: 0.9834 - accuracy: 0.5286 - val_loss: 0.9801 - val_accuracy: 0.5274\n",
            "Epoch 3/10\n",
            "206/206 [==============================] - 1915s 9s/step - loss: 0.9732 - accuracy: 0.5332 - val_loss: 0.9831 - val_accuracy: 0.5305\n",
            "Epoch 4/10\n",
            "206/206 [==============================] - 1929s 9s/step - loss: 0.9652 - accuracy: 0.5335 - val_loss: 0.9627 - val_accuracy: 0.5311\n",
            "Epoch 5/10\n",
            "206/206 [==============================] - 1916s 9s/step - loss: 0.9506 - accuracy: 0.5463 - val_loss: 0.9590 - val_accuracy: 0.5262\n",
            "Epoch 6/10\n",
            "206/206 [==============================] - 1911s 9s/step - loss: 0.9261 - accuracy: 0.5478 - val_loss: 0.9358 - val_accuracy: 0.5335\n",
            "Epoch 7/10\n",
            "206/206 [==============================] - 1963s 10s/step - loss: 0.8924 - accuracy: 0.5714 - val_loss: 0.9248 - val_accuracy: 0.5475\n",
            "Epoch 8/10\n",
            "206/206 [==============================] - 1956s 9s/step - loss: 0.8576 - accuracy: 0.5951 - val_loss: 0.8999 - val_accuracy: 0.5579\n",
            "Epoch 9/10\n",
            "206/206 [==============================] - 1945s 9s/step - loss: 0.8053 - accuracy: 0.6183 - val_loss: 0.8892 - val_accuracy: 0.5664\n",
            "Epoch 10/10\n",
            "206/206 [==============================] - 1932s 9s/step - loss: 0.7582 - accuracy: 0.6402 - val_loss: 0.8996 - val_accuracy: 0.5761\n"
          ]
        }
      ],
      "source": [
        "cnn2 = Sequential([\n",
        "    Conv2D(64, kernel_size = (3,3), padding='same', kernel_initializer='random_normal', input_shape=(150,150,3)),\n",
        "    Activation('relu'),\n",
        "    MaxPooling2D(pool_size=(2,2)),\n",
        "    \n",
        "    Conv2D(32, kernel_size = (3,3), padding='same', kernel_initializer='random_normal'),\n",
        "    Activation('relu'),\n",
        "    MaxPooling2D(pool_size=(2,2)),\n",
        "    \n",
        "    Conv2D(64, kernel_size = (3,3), padding='same', kernel_initializer='random_normal'),\n",
        "    Activation('relu'),\n",
        "    MaxPooling2D(pool_size=(2,2)),\n",
        "\n",
        "    Flatten(),\n",
        "    Dense(64, kernel_initializer='random_normal'),\n",
        "    Activation('relu'),\n",
        "    Dropout(0.5),\n",
        "    Dense(3, activation='softmax')\n",
        "    \n",
        "])\n",
        "\n",
        "cnn2.compile(\n",
        "    'adam',\n",
        "  loss='categorical_crossentropy',\n",
        "  metrics=['accuracy'],\n",
        ")\n",
        "\n",
        "general = cnn2.fit_generator(t_nongen, validation_data= v_nongen, epochs= 10, verbose=1)"
      ]
    },
    {
      "cell_type": "code",
      "execution_count": null,
      "id": "2e4a4bfa",
      "metadata": {
        "execution": {
          "iopub.execute_input": "2022-11-19T16:46:06.647130Z",
          "iopub.status.busy": "2022-11-19T16:46:06.639877Z",
          "iopub.status.idle": "2022-11-19T16:46:07.188500Z",
          "shell.execute_reply": "2022-11-19T16:46:07.188983Z",
          "shell.execute_reply.started": "2022-11-17T15:12:50.483508Z"
        },
        "papermill": {
          "duration": 6.744151,
          "end_time": "2022-11-19T16:46:07.189133",
          "exception": false,
          "start_time": "2022-11-19T16:46:00.444982",
          "status": "completed"
        },
        "tags": [],
        "id": "2e4a4bfa",
        "outputId": "0dc2c044-5a86-46ed-8c22-4a68809be4af"
      },
      "outputs": [
        {
          "data": {
            "image/png": "[encoded data removed]",
            "text/plain": [
              "<Figure size 1080x360 with 2 Axes>"
            ]
          },
          "metadata": {
            "needs_background": "light"
          },
          "output_type": "display_data"
        }
      ],
      "source": [
        "plt.figure(figsize=(15, 5))\n",
        "\n",
        "plt.subplot(1, 2, 1)\n",
        "plt.plot(verimggen.history['accuracy'], label='imggen', color='limegreen')\n",
        "plt.plot(general.history['accuracy'], label='general')\n",
        "plt.legend(loc='lower right')\n",
        "plt.title('Accuracy comparison')\n",
        "\n",
        "plt.subplot(1, 2, 2)\n",
        "plt.plot(verimggen.history['loss'], label='imggen', color='limegreen')\n",
        "plt.plot(general.history['loss'], label='general')\n",
        "plt.legend(loc='upper right')\n",
        "plt.title('Loss comparison')\n",
        "\n",
        "plt.show()"
      ]
    },
    {
      "cell_type": "code",
      "execution_count": null,
      "id": "1d435d87",
      "metadata": {
        "execution": {
          "iopub.execute_input": "2022-11-19T16:46:20.154275Z",
          "iopub.status.busy": "2022-11-19T16:46:20.153145Z",
          "iopub.status.idle": "2022-11-19T16:46:20.478452Z",
          "shell.execute_reply": "2022-11-19T16:46:20.478884Z"
        },
        "papermill": {
          "duration": 6.678295,
          "end_time": "2022-11-19T16:46:20.479057",
          "exception": false,
          "start_time": "2022-11-19T16:46:13.800762",
          "status": "completed"
        },
        "tags": [],
        "id": "1d435d87",
        "outputId": "042adfa5-f2bc-40bc-9d42-99ba908b3ae6"
      },
      "outputs": [
        {
          "data": {
            "image/png": "[encoded data removed]",
            "text/plain": [
              "<Figure size 1080x360 with 2 Axes>"
            ]
          },
          "metadata": {
            "needs_background": "light"
          },
          "output_type": "display_data"
        }
      ],
      "source": [
        "plt.figure(figsize=(15, 5))\n",
        "\n",
        "plt.subplot(1, 2, 1)\n",
        "plt.plot(verimggen.history['accuracy'], label='aug', color='limegreen')\n",
        "plt.legend(loc='lower right')\n",
        "plt.title('Accuracy comparison')\n",
        "\n",
        "plt.subplot(1, 2, 2)\n",
        "plt.plot(verimggen.history['loss'], label='aug', color='limegreen')\n",
        "plt.legend(loc='upper right')\n",
        "plt.title('Loss comparison')\n",
        "\n",
        "plt.show()"
      ]
    },
    {
      "cell_type": "code",
      "execution_count": null,
      "id": "51d9cfa7",
      "metadata": {
        "execution": {
          "iopub.execute_input": "2022-11-19T16:46:33.039131Z",
          "iopub.status.busy": "2022-11-19T16:46:33.023626Z",
          "iopub.status.idle": "2022-11-19T16:46:33.309191Z",
          "shell.execute_reply": "2022-11-19T16:46:33.309688Z"
        },
        "papermill": {
          "duration": 6.621523,
          "end_time": "2022-11-19T16:46:33.309839",
          "exception": false,
          "start_time": "2022-11-19T16:46:26.688316",
          "status": "completed"
        },
        "tags": [],
        "id": "51d9cfa7",
        "outputId": "099a373f-2efa-44f9-cc78-3ffafdc185db"
      },
      "outputs": [
        {
          "data": {
            "image/png": "[encoded data removed]",
            "text/plain": [
              "<Figure size 1080x360 with 2 Axes>"
            ]
          },
          "metadata": {
            "needs_background": "light"
          },
          "output_type": "display_data"
        }
      ],
      "source": [
        "plt.figure(figsize=(15, 5))\n",
        "\n",
        "plt.subplot(1, 2, 1)\n",
        "plt.plot(general.history['accuracy'], label='general')\n",
        "plt.legend(loc='lower right')\n",
        "plt.title('Accuracy comparison')\n",
        "\n",
        "plt.subplot(1, 2, 2)\n",
        "plt.plot(general.history['loss'], label='general')\n",
        "plt.legend(loc='upper right')\n",
        "plt.title('Loss comparison')\n",
        "\n",
        "plt.show()"
      ]
    },
    {
      "cell_type": "code",
      "execution_count": null,
      "id": "426c358d",
      "metadata": {
        "execution": {
          "iopub.execute_input": "2022-11-19T16:46:46.203638Z",
          "iopub.status.busy": "2022-11-19T16:46:46.202250Z",
          "iopub.status.idle": "2022-11-19T16:46:46.206192Z",
          "shell.execute_reply": "2022-11-19T16:46:46.205687Z"
        },
        "papermill": {
          "duration": 6.649101,
          "end_time": "2022-11-19T16:46:46.206315",
          "exception": false,
          "start_time": "2022-11-19T16:46:39.557214",
          "status": "completed"
        },
        "tags": [],
        "id": "426c358d",
        "outputId": "1e73f784-4014-4e46-9e81-9f40531078ee"
      },
      "outputs": [
        {
          "data": {
            "text/plain": [
              "<keras.callbacks.History at 0x7ff1045706d0>"
            ]
          },
          "execution_count": 14,
          "metadata": {},
          "output_type": "execute_result"
        }
      ],
      "source": [
        "general"
      ]
    },
    {
      "cell_type": "code",
      "execution_count": null,
      "id": "0084cb7e",
      "metadata": {
        "execution": {
          "iopub.execute_input": "2022-11-19T16:46:58.732127Z",
          "iopub.status.busy": "2022-11-19T16:46:58.730926Z",
          "iopub.status.idle": "2022-11-19T16:46:58.734437Z",
          "shell.execute_reply": "2022-11-19T16:46:58.734915Z"
        },
        "papermill": {
          "duration": 6.116384,
          "end_time": "2022-11-19T16:46:58.735107",
          "exception": false,
          "start_time": "2022-11-19T16:46:52.618723",
          "status": "completed"
        },
        "tags": [],
        "id": "0084cb7e",
        "outputId": "a9062474-4ddc-4ef6-e4ca-bdb68df74723"
      },
      "outputs": [
        {
          "data": {
            "text/plain": [
              "<keras.callbacks.History at 0x7ff10e146950>"
            ]
          },
          "execution_count": 15,
          "metadata": {},
          "output_type": "execute_result"
        }
      ],
      "source": [
        "verimggen"
      ]
    }
  ],
  "metadata": {
    "kernelspec": {
      "display_name": "Python 3",
      "language": "python",
      "name": "python3"
    },
    "language_info": {
      "codemirror_mode": {
        "name": "ipython",
        "version": 3
      },
      "file_extension": ".py",
      "mimetype": "text/x-python",
      "name": "python",
      "nbconvert_exporter": "python",
      "pygments_lexer": "ipython3",
      "version": "3.7.10"
    },
    "papermill": {
      "default_parameters": {},
      "duration": 40611.275304,
      "end_time": "2022-11-19T16:47:08.068698",
      "environment_variables": {},
      "exception": null,
      "input_path": "__notebook__.ipynb",
      "output_path": "__notebook__.ipynb",
      "parameters": {},
      "start_time": "2022-11-19T05:30:16.793394",
      "version": "2.3.3"
    },
    "colab": {
      "provenance": [],
      "include_colab_link": true
    }
  },
  "nbformat": 4,
  "nbformat_minor": 5
}